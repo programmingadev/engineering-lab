{
  "nbformat": 4,
  "nbformat_minor": 0,
  "metadata": {
    "colab": {
      "provenance": []
    },
    "kernelspec": {
      "name": "python3",
      "display_name": "Python 3"
    },
    "language_info": {
      "name": "python"
    }
  },
  "cells": [
    {
      "cell_type": "code",
      "execution_count": 1,
      "metadata": {
        "id": "RdDNTgrsJuNK"
      },
      "outputs": [],
      "source": [
        "!pip install -q openai"
      ]
    },
    {
      "cell_type": "code",
      "source": [
        "import os\n",
        "\n",
        "from openai import OpenAI\n",
        "from IPython.display import display, Markdown\n",
        "\n",
        "from dotenv import load_dotenv\n",
        "from google.colab import userdata\n",
        "\n",
        "OPENAI_API_KEY = userdata.get('OPENAI_API_KEY')\n",
        "os.environ[\"OPENAI_API_KEY\"] = OPENAI_API_KEY\n",
        "\n",
        "client = OpenAI()"
      ],
      "metadata": {
        "id": "QlCJWKHfKDFL"
      },
      "execution_count": 2,
      "outputs": []
    },
    {
      "cell_type": "code",
      "source": [
        "response_without_approval = client.responses.create(\n",
        "    model=\"gpt-4.1\",\n",
        "    input=\"Find information about the city named Vancouver in British Columbia, Canada\",\n",
        "    tools=[\n",
        "        {\n",
        "            \"type\": \"mcp\",\n",
        "            \"server_label\": \"fetch\",\n",
        "            \"server_url\": \"https://remote.mcpservers.org/fetch/mcp\",\n",
        "            \"require_approval\": \"never\"\n",
        "        }\n",
        "    ]\n",
        ")\n",
        "\n",
        "Markdown(response_without_approval.output_text)"
      ],
      "metadata": {
        "id": "J7PNX1MkKV_-",
        "colab": {
          "base_uri": "https://localhost:8080/",
          "height": 1000
        },
        "outputId": "90cac625-302c-4d98-c276-14df7c21c25d"
      },
      "execution_count": 3,
      "outputs": [
        {
          "output_type": "execute_result",
          "data": {
            "text/plain": [
              "<IPython.core.display.Markdown object>"
            ],
            "text/markdown": "Certainly! Here is detailed information about **Vancouver**, British Columbia, Canada:\n\n---\n\n### **General Overview**\n- **Location:** Southwestern British Columbia, Canada, on the Pacific coast.\n- **Region:** Lower Mainland\n- **Province:** British Columbia\n- **Population (2021 Census):** Approx. 662,248 (city proper); Over 2.6 million in the metropolitan area (Metro Vancouver).\n- **Area:** 115 sq km (44 sq mi) city proper\n- **Demonym:** Vancouverite\n\n---\n\n### **History**\n- **Indigenous Peoples:** Traditional territory of the Musqueam, Squamish, and Tsleil-Waututh Nations.\n- **Founded:** Incorporated as a city in 1886.\n- **Name Origin:** Named after British explorer George Vancouver.\n\n---\n\n### **Economy**\n- Diverse, with key sectors including:\n  - Technology\n  - Film and television production (“Hollywood North”)\n  - Tourism\n  - Trade (Port of Vancouver is Canada’s largest and most diversified)\n  - Forestry\n\n---\n\n### **Landmarks & Attractions**\n- **Stanley Park:** Large urban park, famous seawall, gardens, and the Vancouver Aquarium.\n- **Granville Island:** Public market, artisan shops, dining, and entertainment.\n- **Capilano Suspension Bridge:** Historic and scenic bridge over the Capilano River.\n- **Grouse Mountain:** Outdoor recreation, panoramic city views, winter skiing.\n- **Gastown:** Historic district with cobblestone streets and the famous steam clock.\n- **Vancouver Art Gallery, Science World, Museum of Anthropology.**\n\n---\n\n### **Culture**\n- Multicultural population with a large percentage of residents from diverse backgrounds (notably Chinese, South Asian, Filipino).\n- Renowned for international cuisine, coffee culture, and vibrant arts scene.\n- Host city for EXPO 86 (1986 World's Fair) and the 2010 Winter Olympics.\n\n---\n\n### **Climate**\n- **Type:** Oceanic/Mild temperate (Cfb)\n- **Mild winters, warm summers**\n- **Rainy season:** Mainly November–March\n\n---\n\n### **Transportation**\n- **Public Transit:** TransLink (SkyTrain rapid transit, buses, SeaBus ferries)\n- **Cycle-friendly** with extensive bike routes and bike-share programs.\n- **Major Airport:** Vancouver International Airport (YVR)\n- **Port:** Port of Vancouver\n\n---\n\n### **Education**\n- **Major Universities:**\n  - University of British Columbia (UBC)\n  - Simon Fraser University (SFU, based in nearby Burnaby but with campuses in Vancouver)\n\n---\n\n### **Sports**\n- Major professional teams: Vancouver Canucks (NHL), Vancouver Whitecaps FC (MLS)\n- Outdoor recreation: skiing (nearby Whistler Blackcomb), mountain biking, hiking, water sports.\n\n---\n\n### **Notable Facts**\n- Often ranked among the world’s most livable cities.\n- Emphasizes sustainability and green urban planning.\n- Known for beautiful natural surroundings: mountains, ocean, forests.\n\n---\n\nIf you need specific information (e.g., economy stats, tourism tips, or neighborhoods), just let me know!"
          },
          "metadata": {},
          "execution_count": 3
        }
      ]
    },
    {
      "cell_type": "code",
      "source": [
        "response_with_approval = client.responses.create(\n",
        "    model=\"gpt-4.1\",\n",
        "    input=\"Find information about the city named Vancouver in British Columbia, Canada\",\n",
        "    tools=[\n",
        "        {\n",
        "            \"type\": \"mcp\",\n",
        "            \"server_label\": \"fetch\",\n",
        "            \"server_url\": \"https://remote.mcpservers.org/fetch/mcp\",\n",
        "            \"require_approval\": \"always\"\n",
        "        }\n",
        "    ]\n",
        ")\n",
        "\n",
        "Markdown(response_with_approval.output_text)"
      ],
      "metadata": {
        "colab": {
          "base_uri": "https://localhost:8080/",
          "height": 916
        },
        "id": "DxPmnaq1P-0M",
        "outputId": "9a87b1ee-ac09-4c7a-e759-61764c7b798f"
      },
      "execution_count": 4,
      "outputs": [
        {
          "output_type": "execute_result",
          "data": {
            "text/plain": [
              "<IPython.core.display.Markdown object>"
            ],
            "text/markdown": "Certainly! Here is an overview of **Vancouver**, located in **British Columbia, Canada**:\n\n---\n\n## **Vancouver, British Columbia**\n\n### **General Information**\n- **Location:** Southwestern British Columbia, Canada, on the Pacific Ocean’s Burrard Inlet.\n- **Population:** Approximately 662,000 (City proper, 2021 Census); Metro Vancouver area has over 2.6 million people.\n- **Status:** The largest city in British Columbia; third-largest metropolitan area in Canada after Toronto and Montreal.\n\n### **Geography**\n- Situated on the mainland, Vancouver is surrounded by water on three sides and nestled against the Coast Mountain Range.\n- The city enjoys a coastal, temperate rainforest climate with mild, wet winters and warm, dry summers.\n\n### **History**\n- Settled in the late 1800s.\n- Incorporated as a city in 1886.\n- Named after British explorer Captain George Vancouver, who explored the region in the 1790s.\n\n### **Economy**\n- Major industries: Film and television production (often dubbed \"Hollywood North\"), tourism, software and technology, international trade (especially due to its port), and forestry.\n- Vancouver’s Port is the most diversified in North America and the largest in Canada by total cargo tonnage.\n\n### **Culture & Demographics**\n- Known for its multicultural population and vibrant arts scene.\n- Languages: Predominantly English, with significant communities of Mandarin, Cantonese, Punjabi, and more.\n- Home to many annual arts festivals, music events, and food festivals.\n\n### **Education & Research**\n- Major institutions: University of British Columbia (UBC), Simon Fraser University (SFU), Emily Carr University of Art + Design.\n- Renowned for research in tech, medical, and environmental fields.\n\n### **Recreation & Landmarks**\n- Famous for beautiful parks (Stanley Park is the largest urban park in Canada), beaches, and outdoor recreational activities like skiing, mountain biking, and hiking.\n- Hosted the **2010 Winter Olympics** (alongside Whistler).\n- Distinctive neighborhoods: Downtown, Gastown, Yaletown, Kitsilano, Commercial Drive.\n\n### **Transportation**\n- Extensive public transit including SkyTrain (automated rapid transit), buses, and SeaBus ferries.\n- Main airport: Vancouver International Airport (YVR), one of Canada’s busiest.\n\n### **Attractions**\n- Stanley Park, Granville Island, Vancouver Aquarium, Science World, Capilano Suspension Bridge, Vancouver Art Gallery, Grouse Mountain, and more.\n\n---\n\n**Would you like more detailed info on any aspect, such as tourism, history, or living in Vancouver?**"
          },
          "metadata": {},
          "execution_count": 4
        }
      ]
    },
    {
      "cell_type": "code",
      "source": [],
      "metadata": {
        "id": "tFZe5-gxRYjC"
      },
      "execution_count": null,
      "outputs": []
    }
  ]
}