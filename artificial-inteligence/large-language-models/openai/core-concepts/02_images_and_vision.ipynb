{
  "nbformat": 4,
  "nbformat_minor": 0,
  "metadata": {
    "colab": {
      "provenance": []
    },
    "kernelspec": {
      "name": "python3",
      "display_name": "Python 3"
    },
    "language_info": {
      "name": "python"
    }
  },
  "cells": [
    {
      "cell_type": "markdown",
      "source": [
        "# Image and Vision\n",
        "\n",
        "source: [link](https://platform.openai.com/docs/guides/images-vision?api-mode=responses)"
      ],
      "metadata": {
        "id": "-qWYxQWkyu6c"
      }
    },
    {
      "cell_type": "code",
      "execution_count": 2,
      "metadata": {
        "id": "KOfrTgHIdzwF"
      },
      "outputs": [],
      "source": [
        "!pip -q install openai"
      ]
    },
    {
      "cell_type": "code",
      "source": [
        "import os\n",
        "from openai import OpenAI\n",
        "\n",
        "from google.colab import userdata\n",
        "OPENAI_API_KEY = userdata.get('OPENAI_API_KEY')\n",
        "\n",
        "os.environ['OPENAI_API_KEY'] = OPENAI_API_KEY"
      ],
      "metadata": {
        "id": "MQGYhCx1d77e"
      },
      "execution_count": 3,
      "outputs": []
    },
    {
      "cell_type": "code",
      "source": [],
      "metadata": {
        "id": "dcxKezcJ6uHY"
      },
      "execution_count": null,
      "outputs": []
    }
  ]
}