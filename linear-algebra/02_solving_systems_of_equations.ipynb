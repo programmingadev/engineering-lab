{
  "nbformat": 4,
  "nbformat_minor": 0,
  "metadata": {
    "colab": {
      "provenance": []
    },
    "kernelspec": {
      "name": "python3",
      "display_name": "Python 3"
    },
    "language_info": {
      "name": "python"
    }
  },
  "cells": [
    {
      "cell_type": "markdown",
      "source": [
        "# 🧮 Solving Systems of Equations\n",
        "\n",
        "**Theory:**\n",
        "- Substitution, Elimination, Graphical solution\n",
        "- Augmented matrices, row operations\n",
        "\n",
        "**Practice:**\n",
        "- Solve systems with `np.linalg.solve`\n",
        "- Step-by-step Gaussian elimination using Matplotlib\n",
        "- Use Seaborn heatmaps to visualize matrix transformations\n"
      ],
      "metadata": {
        "id": "TOcIQgQ3v5jC"
      }
    },
    {
      "cell_type": "code",
      "source": [
        "# Minimum amount of libs to play with vectors:\n",
        "import numpy as np\n",
        "import matplotlib.pyplot as plt\n",
        "\n",
        "# Measure the time two operations can take:\n",
        "from datetime import datetime\n",
        "\n",
        "# Pretty print:\n",
        "from pprint import pprint"
      ],
      "metadata": {
        "id": "Vr_s6QDf0OnH"
      },
      "execution_count": null,
      "outputs": []
    },
    {
      "cell_type": "markdown",
      "source": [
        "### **Definition:**"
      ],
      "metadata": {
        "id": "Ktq8Jccmca5F"
      }
    },
    {
      "cell_type": "code",
      "source": [],
      "metadata": {
        "id": "Gl9vICUVb2GV"
      },
      "execution_count": null,
      "outputs": []
    }
  ]
}