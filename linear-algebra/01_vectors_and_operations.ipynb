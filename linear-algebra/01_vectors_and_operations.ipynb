{
  "nbformat": 4,
  "nbformat_minor": 0,
  "metadata": {
    "colab": {
      "provenance": []
    },
    "kernelspec": {
      "name": "python3",
      "display_name": "Python 3"
    },
    "language_info": {
      "name": "python"
    }
  },
  "cells": [
    {
      "cell_type": "markdown",
      "source": [
        "# 📐 Vectors and Operations\n",
        "\n",
        "**Theory:**\n",
        "- Vectors, magnitude, direction\n",
        "- Unit vectors, basis vectors\n",
        "- Vector addition, scalar multiplication\n",
        "\n",
        "**Practice:**\n",
        "- Use NumPy for vector creation & operations\n",
        "- Visualize vectors in 2D with Matplotlib\n",
        "- Interactive sliders to explore linear combinations\n"
      ],
      "metadata": {
        "id": "TOcIQgQ3v5jC"
      }
    },
    {
      "cell_type": "code",
      "source": [
        "# Minimum amount of libs to play with vectors:\n",
        "import numpy as np\n",
        "import matplotlib.pyplot as plt\n",
        "\n",
        "# Measure the time two operations can take:\n",
        "from datetime import datetime\n",
        "\n",
        "# Pretty print:\n",
        "from pprint import pprint"
      ],
      "metadata": {
        "id": "Vr_s6QDf0OnH"
      },
      "execution_count": 78,
      "outputs": []
    },
    {
      "cell_type": "code",
      "source": [
        "# Vectors, magnitude and direction:\n",
        "v = np.array([1,2])\n",
        "\n",
        "pprint({\n",
        "    \"type\": type(v),\n",
        "    \"vector\": v,\n",
        "    \"dimensions\": np.ndim(v),\n",
        "    \"shape\": v.shape,\n",
        "})\n"
      ],
      "metadata": {
        "colab": {
          "base_uri": "https://localhost:8080/"
        },
        "id": "ypyTwdnrybxv",
        "outputId": "584934d7-ceb5-4e7c-e018-4e5ccc79efb5"
      },
      "execution_count": 20,
      "outputs": [
        {
          "output_type": "stream",
          "name": "stdout",
          "text": [
            "{'dimensions': 1,\n",
            " 'shape': (2,),\n",
            " 'type': <class 'numpy.ndarray'>,\n",
            " 'vector': array([1, 2])}\n"
          ]
        }
      ]
    },
    {
      "cell_type": "markdown",
      "source": [
        "**CAVEAT** the _dimension_ of a vetor returns the number of axes of the array, whilst the _size_ of the array returns a _tuple (n,m)_, where _n_ is the number of _rows_ and _m_ the number of _columns_."
      ],
      "metadata": {
        "id": "Lgg7p6Cp1RZY"
      }
    },
    {
      "cell_type": "markdown",
      "source": [
        " ### **Definition:**\n",
        "\n",
        " The _L2 norm_, also known as the _Euclidian_ norm, is how we measure the magnitude of a vector!\n",
        "\n",
        " $\\mathbf\\|{x}\\|_2 = \\sqrt{x_1^2 + x_2^2 + \\cdots + x_n^2}$\n",
        "\n",
        "or equivalently\n",
        "\n",
        "$\\left( \\sum_{i=1}^n x_i^2 \\right)^{1/2}$\n"
      ],
      "metadata": {
        "id": "i3JZ3O7U3-Tu"
      }
    },
    {
      "cell_type": "code",
      "source": [
        "# The magnitude can be calculated:\n",
        "magnitude = np.linalg.norm(v)\n",
        "pprint({\n",
        "    \"magnitude\": magnitude,\n",
        "})"
      ],
      "metadata": {
        "colab": {
          "base_uri": "https://localhost:8080/"
        },
        "id": "EVb7UxXLyuvL",
        "outputId": "a521da7c-fb5a-47e2-f03f-b31aea258c5a"
      },
      "execution_count": 21,
      "outputs": [
        {
          "output_type": "stream",
          "name": "stdout",
          "text": [
            "{'magnitude': np.float64(2.23606797749979)}\n"
          ]
        }
      ]
    },
    {
      "cell_type": "markdown",
      "source": [
        "The direction gives us the orientation of a vector in space.\n",
        "\n",
        "$\\mathbf{\\hat{x}} = \\frac{\\mathbf{x}}{\\|\\mathbf{x}\\|_2}$\n",
        "\n",
        "Note that the function above gives us _another vector_. A special vector called normalize, or unit vector!\n",
        "\n"
      ],
      "metadata": {
        "id": "RmANbNqL6FPY"
      }
    },
    {
      "cell_type": "code",
      "source": [
        "x_hat = v / magnitude\n",
        "pprint({\n",
        "    \"direction\": x_hat,\n",
        "})"
      ],
      "metadata": {
        "colab": {
          "base_uri": "https://localhost:8080/"
        },
        "id": "cPxAna2W7MId",
        "outputId": "ed3171b8-5e9e-4963-d934-7b01fe3043c9"
      },
      "execution_count": 22,
      "outputs": [
        {
          "output_type": "stream",
          "name": "stdout",
          "text": [
            "{'direction': array([0.4472136 , 0.89442719])}\n"
          ]
        }
      ]
    },
    {
      "cell_type": "code",
      "source": [
        "plt.figure(figsize=(5,5))\n",
        "plt.grid()\n",
        "\n",
        "# Plot the vetor:\n",
        "plt.quiver(0, 0, v[0], v[1], color=\"blue\", scale_units=\"xy\", scale=1, angles='xy')\n",
        "\n",
        "# Plot the unit vector\n",
        "plt.quiver(0, 0, x_hat[0], x_hat[1], color=\"red\", scale_units=\"xy\", scale=1, angles='xy')\n",
        "\n",
        "plt.xlim([-max(abs(v))-1, max(abs(v))+1]) # Adjust x-axis limits\n",
        "plt.ylim([-max(abs(v))-1, max(abs(v))+1]) # Adjust y-axis limits\n",
        "\n",
        "plt.xlabel(\"x-axis\")\n",
        "plt.ylabel(\"y-axis\")\n",
        "\n",
        "plt.legend([\"Vector\", \"Unit Vector\"], loc='upper left')\n",
        "\n",
        "plt.gca().set_aspect('equal', adjustable='box') # Ensure equal aspect ratio\n",
        "plt.show()"
      ],
      "metadata": {
        "colab": {
          "base_uri": "https://localhost:8080/",
          "height": 470
        },
        "id": "v2-1NhXa7Qc1",
        "outputId": "7fe601b3-fe02-45bd-86f3-6b0512180050"
      },
      "execution_count": 23,
      "outputs": [
        {
          "output_type": "display_data",
          "data": {
            "text/plain": [
              "<Figure size 500x500 with 1 Axes>"
            ],
            "image/png": "[encoded data removed]"
          },
          "metadata": {}
        }
      ]
    },
    {
      "cell_type": "markdown",
      "source": [
        "## Arithmetic\n",
        "\n",
        "The arithmetic operators on arrays apply elementwise, which means that when you use operations like addition (+), subtraction (-), multiplication (*), or division (/) with arrays, the operation happens between the corresponding elements of the arrays.\n",
        "\n",
        "Example:\n",
        "\n",
        "If you have two arrays:\n",
        "\n",
        "Array 1: `[1, 2, 3]` Array 2: `[4, 5, 6]`\n",
        "\n",
        "And you add them together:\n",
        "\n",
        "Result: `[1+4, 2+5, 3+6]` which is `[5, 7, 9]`\n",
        "\n"
      ],
      "metadata": {
        "id": "mS9SNme7sNR1"
      }
    },
    {
      "cell_type": "markdown",
      "source": [],
      "metadata": {
        "id": "PAn1Q_MPs-gA"
      }
    },
    {
      "cell_type": "code",
      "source": [
        "a = np.array([1, 2])\n",
        "b = np.array([3, 4])\n",
        "\n",
        "# Addition\n",
        "result_add = a + b\n",
        "print(\"Addition:\", result_add)\n",
        "\n",
        "# Subtraction\n",
        "result_sub = a - b\n",
        "print(\"Subtraction:\", result_sub)\n",
        "\n",
        "# Multiplication by a scalar and between vectors:\n",
        "result_scalar_mul = 2 * a\n",
        "print(\"Scalar multiplication:\", result_scalar_mul)\n",
        "result_mul = a * b\n",
        "print(\"Multiplication:\", result_mul)\n",
        "\n",
        "# Division:\n",
        "result_div = a / b\n",
        "print(\"Division:\", result_div)"
      ],
      "metadata": {
        "colab": {
          "base_uri": "https://localhost:8080/"
        },
        "id": "LYCLtVeHtqqv",
        "outputId": "8ab67ac4-b19a-46a4-e864-07c43651141a"
      },
      "execution_count": 24,
      "outputs": [
        {
          "output_type": "stream",
          "name": "stdout",
          "text": [
            "Addition: [4 6]\n",
            "Subtraction: [-2 -2]\n",
            "Scalar multiplication: [2 4]\n",
            "Multiplication: [3 8]\n",
            "Division: [0.33333333 0.5       ]\n"
          ]
        }
      ]
    },
    {
      "cell_type": "markdown",
      "source": [
        "### **Definition:**\n",
        "\n",
        "The dot product or scalar product, is a mathematical operation that takes two vectors and returns a single number (a scalar). Different from our multiplication above, the dot product is a component wise operation.\n",
        "\n",
        "Example:\n",
        "\n",
        "$\\mathbf{a} \\cdot \\mathbf{b} = \\sum_{i=1}^n a_i b_i = a_1 b_1 + a_2 b_2 + \\cdots + a_n b_n$ \\\n",
        "\n",
        "Or equialently: \\\n",
        "\n",
        "$\\mathbf{a} \\cdot \\mathbf{b} = \\|\\mathbf{a}\\| \\|\\mathbf{b}\\| \\cos(\\theta)$\n",
        "\n",
        "Where:\n",
        "\n",
        "$\\mathbf{a}$ and $\\mathbf{b}$ are the vectors.\n",
        "$a_i$ and $b_i$ are the components of the vectors.\n",
        "\n",
        "$\\|\\mathbf{a}\\|$ and $\\|\\mathbf{b}\\|$ are the magnitudes (or lengths) of the vectors $\\mathbf{a}$ and $\\mathbf{b}$.\n",
        "\n",
        "$\\theta$ is the angle between the vectors $\\mathbf{a}$ and $\\mathbf{b}$."
      ],
      "metadata": {
        "id": "dMHL3I2IuF6j"
      }
    },
    {
      "cell_type": "code",
      "source": [
        "result_dot = b.dot(a)\n",
        "print(\"Dot product:\", result_dot)\n",
        "\n",
        "result_same = np.sum(a * b)\n",
        "print(\"Dot product:\", result_same)\n",
        "\n",
        "result_new_symbol = a @ b\n",
        "print(\"Dot product:\", result_new_symbol)"
      ],
      "metadata": {
        "colab": {
          "base_uri": "https://localhost:8080/"
        },
        "id": "c7oQfC317xUV",
        "outputId": "0d3767d4-b1ae-40ba-c4b8-a7731eb96b81"
      },
      "execution_count": 25,
      "outputs": [
        {
          "output_type": "stream",
          "name": "stdout",
          "text": [
            "Dot product: 11\n",
            "Dot product: 11\n",
            "Dot product: 11\n"
          ]
        }
      ]
    },
    {
      "cell_type": "code",
      "source": [],
      "metadata": {
        "id": "q9CnPWU2W2vJ"
      },
      "execution_count": 58,
      "outputs": []
    },
    {
      "cell_type": "code",
      "source": [
        "# %%timeit\n",
        "# c = np.array(range(0,1000))\n",
        "# d = np.array(range(0,1000))\n",
        "# result_time = c.dot(d)"
      ],
      "metadata": {
        "id": "WzgaCFMAwdi8",
        "colab": {
          "base_uri": "https://localhost:8080/"
        },
        "outputId": "06c91ffa-3a52-42f0-d8a2-23ecac59f2d5"
      },
      "execution_count": 75,
      "outputs": [
        {
          "output_type": "stream",
          "name": "stdout",
          "text": [
            "192 µs ± 26.7 µs per loop (mean ± std. dev. of 7 runs, 10000 loops each)\n"
          ]
        }
      ]
    },
    {
      "cell_type": "code",
      "source": [
        "c = np.array(range(0,1000))\n",
        "d = np.array(range(0,1000))\n",
        "\n",
        "t0 = datetime.now()\n",
        "result_time = c.dot(d)\n",
        "t1 = datetime.now()\n",
        "print(\"Time taken:\", (t1 - t0).total_seconds())"
      ],
      "metadata": {
        "colab": {
          "base_uri": "https://localhost:8080/"
        },
        "id": "WhEtGAAFYJZZ",
        "outputId": "464db8f6-aa16-41ef-c033-2e557ca1cdff"
      },
      "execution_count": 81,
      "outputs": [
        {
          "output_type": "stream",
          "name": "stdout",
          "text": [
            "Time taken: 0.000103\n"
          ]
        }
      ]
    },
    {
      "cell_type": "code",
      "source": [
        "# %%timeit\n",
        "# c = np.array(range(0,1000))\n",
        "# d = np.array(range(0,1000))\n",
        "# e = 0\n",
        "# for i in range(len(c)):\n",
        "#   e += c[i] * d[i]"
      ],
      "metadata": {
        "colab": {
          "base_uri": "https://localhost:8080/"
        },
        "id": "pU_-M5poRxQ-",
        "outputId": "c62d5677-fbe3-4f92-e7b3-967bff384609"
      },
      "execution_count": 76,
      "outputs": [
        {
          "output_type": "stream",
          "name": "stdout",
          "text": [
            "434 µs ± 9.71 µs per loop (mean ± std. dev. of 7 runs, 1000 loops each)\n"
          ]
        }
      ]
    },
    {
      "cell_type": "code",
      "source": [
        "c = np.array(range(0,1000))\n",
        "d = np.array(range(0,1000))\n",
        "\n",
        "t0 = datetime.now()\n",
        "e = 0\n",
        "for i in range(len(c)):\n",
        "  e += c[i] * d[i]\n",
        "t1 = datetime.now()\n",
        "print(\"Time taken:\", (t1 - t0).total_seconds())"
      ],
      "metadata": {
        "colab": {
          "base_uri": "https://localhost:8080/"
        },
        "id": "6R3SGc-BYRd4",
        "outputId": "da075dec-8066-4627-b754-70fa0570e7bc"
      },
      "execution_count": 82,
      "outputs": [
        {
          "output_type": "stream",
          "name": "stdout",
          "text": [
            "Time taken: 0.001093\n"
          ]
        }
      ]
    }
  ]
}