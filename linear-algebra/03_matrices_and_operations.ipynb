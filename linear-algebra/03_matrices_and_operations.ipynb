{
  "nbformat": 4,
  "nbformat_minor": 0,
  "metadata": {
    "colab": {
      "provenance": []
    },
    "kernelspec": {
      "name": "python3",
      "display_name": "Python 3"
    },
    "language_info": {
      "name": "python"
    }
  },
  "cells": [
    {
      "cell_type": "markdown",
      "source": [
        "# 🧊 Matrix Operations\n",
        "\n",
        "**Theory:**\n",
        "- Addition, Subtraction, Scalar Multiplication\n",
        "- Matrix Multiplication rules and properties\n",
        "\n",
        "**Practice:**\n",
        "- Visualize changes in matrices with Plotly or Seaborn\n",
        "\n",
        "\n",
        "\n",
        "\n"
      ],
      "metadata": {
        "id": "TOcIQgQ3v5jC"
      }
    },
    {
      "cell_type": "code",
      "source": [
        "# Minimum amount of libs to play with vectors:\n",
        "import numpy as np\n",
        "import matplotlib.pyplot as plt\n",
        "\n",
        "# Measure the time two operations can take:\n",
        "from datetime import datetime\n",
        "\n",
        "# Pretty print:\n",
        "from pprint import pprint"
      ],
      "metadata": {
        "id": "Vr_s6QDf0OnH"
      },
      "execution_count": 1,
      "outputs": []
    },
    {
      "cell_type": "markdown",
      "source": [
        "### **Definition:**"
      ],
      "metadata": {
        "id": "jd7X1GnMcXnM"
      }
    }
  ]
}